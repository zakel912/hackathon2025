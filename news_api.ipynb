{
 "cells": [
  {
   "cell_type": "code",
   "execution_count": 39,
   "id": "145f934d",
   "metadata": {},
   "outputs": [],
   "source": [
    "import requests\n",
    "import pandas as pd\n",
    "from datetime import datetime, timedelta\n",
    "import time\n",
    "import yfinance as yf\n",
    "import torch\n",
    "import torch.nn.functional as F\n",
    "from transformers import AutoTokenizer, AutoModelForSequenceClassification\n",
    "import plotly.express as px"
   ]
  },
  {
   "cell_type": "code",
   "execution_count": 40,
   "id": "6705470e",
   "metadata": {},
   "outputs": [
    {
     "name": "stdout",
     "output_type": "stream",
     "text": [
      "📰 Collecting news from 2025-09-16 to 2025-10-16...\n",
      "✅ 976 articles collected.\n",
      "\n"
     ]
    }
   ],
   "source": [
    "\n",
    "API_KEY = \"834f03716cde446aa51357c67ca13ab2\"\n",
    "\n",
    "companies = {\n",
    "    \"AAPL\": \"Apple\",\n",
    "    \"MSFT\": \"Microsoft\",\n",
    "    \"AMZN\": \"Amazon\",\n",
    "    \"GOOGL\": \"Google OR Alphabet\",\n",
    "    \"TSLA\": \"Tesla\",\n",
    "    \"MC.PA\": \"LVMH OR Moet Hennessy\",\n",
    "    \"TTE.PA\": \"TotalEnergies\",\n",
    "    \"SAN.PA\": \"Sanofi\",\n",
    "    \"AIR.PA\": \"Airbus\",\n",
    "    \"SU.PA\": \"Schneider Electric\"\n",
    "}\n",
    "\n",
    "end_date = datetime.today()\n",
    "start_date = end_date - timedelta(days=30)\n",
    "from_date = start_date.strftime(\"%Y-%m-%d\")\n",
    "to_date = end_date.strftime(\"%Y-%m-%d\")\n",
    "\n",
    "print(f\"📰 Collecting news from {from_date} to {to_date}...\")\n",
    "\n",
    "\n",
    "all_articles = []\n",
    "\n",
    "for ticker, name in companies.items():\n",
    "    query = f\"{ticker} OR {name}\"\n",
    "    # query = f'(\"{ticker}\" OR \"{name}\") AND (stock OR share OR market OR price OR earnings OR profit)'\n",
    "    url = (\n",
    "        f\"https://newsapi.org/v2/everything?\"\n",
    "        f\"q={query}&\"\n",
    "        f\"from={from_date}&\"\n",
    "        f\"to={to_date}&\"\n",
    "        f\"sortBy=publishedAt&\"\n",
    "        f\"language=en&\"\n",
    "        f\"pageSize=100&\"\n",
    "        f\"apiKey={API_KEY}\"\n",
    "    )\n",
    "\n",
    "    response = requests.get(url)\n",
    "    if response.status_code != 200:\n",
    "        print(f\"❌ Error fetching {name}: {response.status_code}\")\n",
    "        continue\n",
    "\n",
    "    data = response.json()\n",
    "    articles = data.get(\"articles\", [])\n",
    "    for article in articles:\n",
    "        title = article.get(\"title\", \"\")\n",
    "        desc = article.get(\"description\", \"\")\n",
    "        text = f\"{title}. {desc}\".strip()\n",
    "\n",
    "        if not text:\n",
    "            continue\n",
    "\n",
    "        all_articles.append({\n",
    "            \"Company\": name,\n",
    "            \"Text\": text,\n",
    "            \"URL\": article.get(\"url\"),\n",
    "            \"PublishedAt\": article.get(\"publishedAt\")\n",
    "        })\n",
    "    time.sleep(1)  # éviter rate limit\n",
    "\n",
    "df = pd.DataFrame(all_articles)\n",
    "print(f\"✅ {len(df)} articles collected.\\n\")\n",
    "\n",
    "if df.empty:\n",
    "    raise ValueError(\"No articles collected. Check your API key or query terms.\")"
   ]
  },
  {
   "cell_type": "code",
   "execution_count": 41,
   "id": "3b385eef",
   "metadata": {},
   "outputs": [
    {
     "name": "stdout",
     "output_type": "stream",
     "text": [
      "🔍 Loading FinBERT model...\n"
     ]
    }
   ],
   "source": [
    "print(\"🔍 Loading FinBERT model...\")\n",
    "MODEL_NAME = \"yiyanghkust/finbert-tone\"\n",
    "tokenizer = AutoTokenizer.from_pretrained(MODEL_NAME)\n",
    "model = AutoModelForSequenceClassification.from_pretrained(MODEL_NAME)"
   ]
  },
  {
   "cell_type": "code",
   "execution_count": 42,
   "id": "0863cfd9",
   "metadata": {},
   "outputs": [
    {
     "name": "stdout",
     "output_type": "stream",
     "text": [
      "🧠 Running sentiment analysis...\n",
      "✅ Sentiment analysis completed and saved.\n",
      "\n"
     ]
    }
   ],
   "source": [
    "def analyze_sentiment(text):\n",
    "    inputs = tokenizer(text, return_tensors=\"pt\", truncation=True, max_length=512)\n",
    "    with torch.no_grad():\n",
    "        outputs = model(**inputs)\n",
    "        probs = F.softmax(outputs.logits, dim=1)\n",
    "        sentiment_labels = [\"positive\", \"neutral\", \"negative\"]\n",
    "        sentiment_idx = torch.argmax(probs, dim=1).item()\n",
    "        return sentiment_labels[sentiment_idx], probs[0][sentiment_idx].item()\n",
    "\n",
    "print(\"🧠 Running sentiment analysis...\")\n",
    "sentiments = [analyze_sentiment(t) for t in df[\"Text\"]]\n",
    "\n",
    "df[\"Sentiment\"] = [s[0] for s in sentiments]\n",
    "df[\"SentimentScore\"] = [s[1] for s in sentiments]\n",
    "\n",
    "df[\"PublishedAt\"] = pd.to_datetime(df[\"PublishedAt\"])\n",
    "df.to_csv(\"news_sentiment_raw.csv\", index=False)\n",
    "print(\"✅ Sentiment analysis completed and saved.\\n\")\n"
   ]
  },
  {
   "cell_type": "code",
   "execution_count": 43,
   "id": "2043d8ca",
   "metadata": {},
   "outputs": [],
   "source": [
    "daily_sent = (\n",
    "    df.groupby([\"Company\", df[\"PublishedAt\"].dt.date])\n",
    "    .agg(MeanSentimentScore=(\"SentimentScore\", \"mean\"))\n",
    "    .reset_index()\n",
    ")"
   ]
  },
  {
   "cell_type": "code",
   "execution_count": null,
   "id": "a902c57e",
   "metadata": {},
   "outputs": [
    {
     "name": "stdout",
     "output_type": "stream",
     "text": [
      "📊 Downloading market data...\n",
      "⚠️ Error with AAPL: Not allowed to merge between different levels. (1 levels on the left, 2 on the right)\n",
      "⚠️ Error with MSFT: Not allowed to merge between different levels. (1 levels on the left, 2 on the right)\n",
      "⚠️ Error with AMZN: Not allowed to merge between different levels. (1 levels on the left, 2 on the right)\n",
      "⚠️ Error with GOOGL: Not allowed to merge between different levels. (1 levels on the left, 2 on the right)\n",
      "⚠️ Error with TSLA: Not allowed to merge between different levels. (1 levels on the left, 2 on the right)\n",
      "⚠️ Error with MC.PA: Not allowed to merge between different levels. (1 levels on the left, 2 on the right)\n"
     ]
    },
    {
     "name": "stderr",
     "output_type": "stream",
     "text": [
      "/tmp/ipykernel_9298/2469462183.py:7: FutureWarning: YF.download() has changed argument auto_adjust default to True\n",
      "  stock = yf.download(company, start=from_date, end=to_date, progress=False)\n",
      "/tmp/ipykernel_9298/2469462183.py:7: FutureWarning: YF.download() has changed argument auto_adjust default to True\n",
      "  stock = yf.download(company, start=from_date, end=to_date, progress=False)\n",
      "/tmp/ipykernel_9298/2469462183.py:7: FutureWarning: YF.download() has changed argument auto_adjust default to True\n",
      "  stock = yf.download(company, start=from_date, end=to_date, progress=False)\n",
      "/tmp/ipykernel_9298/2469462183.py:7: FutureWarning: YF.download() has changed argument auto_adjust default to True\n",
      "  stock = yf.download(company, start=from_date, end=to_date, progress=False)\n",
      "/tmp/ipykernel_9298/2469462183.py:7: FutureWarning: YF.download() has changed argument auto_adjust default to True\n",
      "  stock = yf.download(company, start=from_date, end=to_date, progress=False)\n",
      "/tmp/ipykernel_9298/2469462183.py:7: FutureWarning: YF.download() has changed argument auto_adjust default to True\n",
      "  stock = yf.download(company, start=from_date, end=to_date, progress=False)\n"
     ]
    },
    {
     "name": "stdout",
     "output_type": "stream",
     "text": [
      "⚠️ Error with TTE.PA: Not allowed to merge between different levels. (1 levels on the left, 2 on the right)\n",
      "⚠️ Error with SAN.PA: Not allowed to merge between different levels. (1 levels on the left, 2 on the right)\n",
      "⚠️ Error with AIR.PA: Not allowed to merge between different levels. (1 levels on the left, 2 on the right)\n",
      "⚠️ Error with SU.PA: Not allowed to merge between different levels. (1 levels on the left, 2 on the right)\n",
      "\n",
      "📉 Correlations between sentiment & return:\n",
      "Empty DataFrame\n",
      "Columns: []\n",
      "Index: []\n"
     ]
    },
    {
     "name": "stderr",
     "output_type": "stream",
     "text": [
      "/tmp/ipykernel_9298/2469462183.py:7: FutureWarning: YF.download() has changed argument auto_adjust default to True\n",
      "  stock = yf.download(company, start=from_date, end=to_date, progress=False)\n",
      "/tmp/ipykernel_9298/2469462183.py:7: FutureWarning: YF.download() has changed argument auto_adjust default to True\n",
      "  stock = yf.download(company, start=from_date, end=to_date, progress=False)\n",
      "/tmp/ipykernel_9298/2469462183.py:7: FutureWarning: YF.download() has changed argument auto_adjust default to True\n",
      "  stock = yf.download(company, start=from_date, end=to_date, progress=False)\n",
      "/tmp/ipykernel_9298/2469462183.py:7: FutureWarning: YF.download() has changed argument auto_adjust default to True\n",
      "  stock = yf.download(company, start=from_date, end=to_date, progress=False)\n"
     ]
    }
   ],
   "source": [
    "print(\"📊 Downloading market data...\") # look in details not working\n",
    "corr_results = []\n",
    "merged_data = []\n",
    "\n",
    "for company in companies:\n",
    "    try:\n",
    "        stock = yf.download(company, start=from_date, end=to_date, progress=False)\n",
    "        if stock.empty:\n",
    "            continue\n",
    "        stock[\"Return\"] = stock[\"Close\"].pct_change()\n",
    "        stock = stock.reset_index()[[\"Date\", \"Return\"]]\n",
    "\n",
    "        company_sent = daily_sent[daily_sent[\"Company\"] == company]\n",
    "        merged = pd.merge(\n",
    "            company_sent, stock, left_on=\"PublishedAt\", right_on=\"Date\", how=\"inner\"\n",
    "        )\n",
    "        merged[\"Company\"] = company\n",
    "\n",
    "        corr = merged[\"MeanSentimentScore\"].corr(merged[\"Return\"])\n",
    "        corr_results.append({\"Company\": company, \"Correlation\": corr})\n",
    "        merged_data.append(merged)\n",
    "    except Exception as e:\n",
    "        print(f\"⚠️ Error with {company}: {e}\")\n",
    "\n",
    "corr_df = pd.DataFrame(corr_results)\n",
    "print(\"\\n📉 Correlations between sentiment & return:\")\n",
    "print(corr_df)"
   ]
  },
  {
   "cell_type": "code",
   "execution_count": null,
   "id": "2aa704e3",
   "metadata": {},
   "outputs": [
    {
     "name": "stdout",
     "output_type": "stream",
     "text": [
      "⚠️ No merged data available for visualization.\n",
      "\n",
      "✅ All results saved: news_sentiment_raw.csv & sentiment_market_correlation.csv\n"
     ]
    }
   ],
   "source": [
    "if merged_data:\n",
    "    all_merged = pd.concat(merged_data)\n",
    "    fig = px.scatter(\n",
    "        all_merged,\n",
    "        x=\"MeanSentimentScore\",\n",
    "        y=\"Return\",\n",
    "        color=\"Company\",\n",
    "        trendline=\"ols\",\n",
    "        title=\"Sentiment vs Daily Return Correlation\",\n",
    "        labels={\"MeanSentimentScore\": \"Mean Sentiment Score\", \"Return\": \"Daily Stock Return\"},\n",
    "    )\n",
    "    fig.show()\n",
    "\n",
    "    fig2 = px.line(\n",
    "        all_merged,\n",
    "        x=\"PublishedAt\",\n",
    "        y=\"MeanSentimentScore\",\n",
    "        color=\"Company\",\n",
    "        title=\"Daily Sentiment Trend by Company\"\n",
    "    )\n",
    "    fig2.show()\n",
    "else:\n",
    "    print(\"⚠️ No merged data available for visualization.\")\n",
    "\n",
    "corr_df.to_csv(\"sentiment_market_correlation.csv\", index=False)\n",
    "print(\"\\n✅ All results saved: news_sentiment_raw.csv & sentiment_market_correlation.csv\")"
   ]
  }
 ],
 "metadata": {
  "kernelspec": {
   "display_name": "myvenv (3.12.3)",
   "language": "python",
   "name": "python3"
  },
  "language_info": {
   "codemirror_mode": {
    "name": "ipython",
    "version": 3
   },
   "file_extension": ".py",
   "mimetype": "text/x-python",
   "name": "python",
   "nbconvert_exporter": "python",
   "pygments_lexer": "ipython3",
   "version": "3.12.3"
  }
 },
 "nbformat": 4,
 "nbformat_minor": 5
}
