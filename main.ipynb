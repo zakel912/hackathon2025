{
 "cells": [
  {
   "cell_type": "code",
   "execution_count": 122,
   "id": "a29358dc",
   "metadata": {},
   "outputs": [],
   "source": [
    "import requests\n",
    "import pandas as pd\n",
    "from dotenv import load_dotenv\n",
    "import json\n",
    "import os, re\n",
    "import ast"
   ]
  },
  {
   "cell_type": "code",
   "execution_count": 123,
   "id": "7126bfea",
   "metadata": {},
   "outputs": [],
   "source": [
    "load_dotenv()\n",
    "\n",
    "BEARER_TOKEN = os.getenv(\"BEARER_TOKEN\")\n",
    "QUERY = \"TSLA OR Tesla lang:en -is:retweet\"  # requête (mot-clé, langue, exclusion des RT)\n",
    "MAX_RESULTS = 50  # entre 10 et 100 (limite de l’API gratuite)\n",
    "N_TWEETS = 200    # total de tweets que tu veux récupérer (l’API renvoie 100 max par page)"
   ]
  },
  {
   "cell_type": "code",
   "execution_count": 124,
   "id": "503026b1",
   "metadata": {},
   "outputs": [
    {
     "name": "stdout",
     "output_type": "stream",
     "text": [
      "Erreur: 429 {\"title\":\"Too Many Requests\",\"detail\":\"Too Many Requests\",\"type\":\"about:blank\",\"status\":429}\n",
      "Empty DataFrame\n",
      "Columns: []\n",
      "Index: []\n",
      "⚠️ Le fichier tweets_TSLA.csv existe déjà, aucune écriture effectuée.\n"
     ]
    }
   ],
   "source": [
    "def search_tweets(query, bearer_token, n_tweets=N_TWEETS):\n",
    "    headers = {\"Authorization\": f\"Bearer {bearer_token}\"}\n",
    "    url = \"https://api.x.com/2/tweets/search/recent\"\n",
    "\n",
    "    params = {\n",
    "        \"query\": query,\n",
    "        \"max_results\": MAX_RESULTS,\n",
    "        \"tweet.fields\": \"id,text,created_at,public_metrics,lang\",\n",
    "    }\n",
    "\n",
    "    tweets = []\n",
    "    next_token = None\n",
    "\n",
    "    while len(tweets) < n_tweets:\n",
    "        if next_token:\n",
    "            params[\"next_token\"] = next_token\n",
    "\n",
    "        response = requests.get(url, headers=headers, params=params)\n",
    "        if response.status_code != 200:\n",
    "            print(\"Erreur:\", response.status_code, response.text)\n",
    "            break\n",
    "\n",
    "        data = response.json()\n",
    "        tweets.extend(data.get(\"data\", []))\n",
    "\n",
    "        next_token = data.get(\"meta\", {}).get(\"next_token\")\n",
    "        if not next_token:\n",
    "            break\n",
    "\n",
    "    return tweets[:n_tweets]\n",
    "\n",
    "\n",
    "tweets = search_tweets(QUERY, BEARER_TOKEN, N_TWEETS)\n",
    "df = pd.DataFrame(tweets)\n",
    "print(df.head())\n",
    "\n",
    "filename = \"tweets_TSLA.csv\"\n",
    "\n",
    "if not os.path.exists(filename):\n",
    "    df.to_csv(filename, index=False)\n",
    "    print(f\"✅ Fichier créé : {filename}\")\n",
    "else:\n",
    "    print(f\"⚠️ Le fichier {filename} existe déjà, aucune écriture effectuée.\")"
   ]
  },
  {
   "cell_type": "code",
   "execution_count": null,
   "id": "389e3bba",
   "metadata": {},
   "outputs": [
    {
     "name": "stdout",
     "output_type": "stream",
     "text": [
      "Index(['id', 'edit_history_tweet_ids', 'text', 'lang', 'public_metrics',\n",
      "       'created_at'],\n",
      "      dtype='object')\n",
      "(100, 6)\n"
     ]
    }
   ],
   "source": [
    "df = pd.read_csv(\"tweets_TSLA.csv\")\n",
    "print(df.columns)\n",
    "print(df.shape)"
   ]
  },
  {
   "cell_type": "code",
   "execution_count": null,
   "id": "9c4fff3e",
   "metadata": {},
   "outputs": [
    {
     "name": "stdout",
     "output_type": "stream",
     "text": [
      "1\n"
     ]
    },
    {
     "data": {
      "text/html": [
       "<div>\n",
       "<style scoped>\n",
       "    .dataframe tbody tr th:only-of-type {\n",
       "        vertical-align: middle;\n",
       "    }\n",
       "\n",
       "    .dataframe tbody tr th {\n",
       "        vertical-align: top;\n",
       "    }\n",
       "\n",
       "    .dataframe thead th {\n",
       "        text-align: right;\n",
       "    }\n",
       "</style>\n",
       "<table border=\"1\" class=\"dataframe\">\n",
       "  <thead>\n",
       "    <tr style=\"text-align: right;\">\n",
       "      <th></th>\n",
       "      <th>text</th>\n",
       "      <th>lang</th>\n",
       "      <th>public_metrics</th>\n",
       "      <th>date</th>\n",
       "      <th>hour</th>\n",
       "      <th>weekday</th>\n",
       "    </tr>\n",
       "  </thead>\n",
       "  <tbody>\n",
       "    <tr>\n",
       "      <th>0</th>\n",
       "      <td>I just earned +10.00 BSD in the simulation mar...</td>\n",
       "      <td>en</td>\n",
       "      <td>{'retweet_count': 0, 'reply_count': 0, 'like_c...</td>\n",
       "      <td>2025-10-16</td>\n",
       "      <td>11:30:38</td>\n",
       "      <td>Thursday</td>\n",
       "    </tr>\n",
       "    <tr>\n",
       "      <th>1</th>\n",
       "      <td>Tesla - Hang Tough (HQ) https://t.co/eiYNM0B72...</td>\n",
       "      <td>en</td>\n",
       "      <td>{'retweet_count': 0, 'reply_count': 0, 'like_c...</td>\n",
       "      <td>2025-10-16</td>\n",
       "      <td>11:30:37</td>\n",
       "      <td>Thursday</td>\n",
       "    </tr>\n",
       "    <tr>\n",
       "      <th>2</th>\n",
       "      <td>@Tesla The Lightning Network enables fast, low...</td>\n",
       "      <td>en</td>\n",
       "      <td>{'retweet_count': 0, 'reply_count': 0, 'like_c...</td>\n",
       "      <td>2025-10-16</td>\n",
       "      <td>11:30:34</td>\n",
       "      <td>Thursday</td>\n",
       "    </tr>\n",
       "  </tbody>\n",
       "</table>\n",
       "</div>"
      ],
      "text/plain": [
       "                                                text lang  \\\n",
       "0  I just earned +10.00 BSD in the simulation mar...   en   \n",
       "1  Tesla - Hang Tough (HQ) https://t.co/eiYNM0B72...   en   \n",
       "2  @Tesla The Lightning Network enables fast, low...   en   \n",
       "\n",
       "                                      public_metrics        date      hour  \\\n",
       "0  {'retweet_count': 0, 'reply_count': 0, 'like_c...  2025-10-16  11:30:38   \n",
       "1  {'retweet_count': 0, 'reply_count': 0, 'like_c...  2025-10-16  11:30:37   \n",
       "2  {'retweet_count': 0, 'reply_count': 0, 'like_c...  2025-10-16  11:30:34   \n",
       "\n",
       "    weekday  \n",
       "0  Thursday  \n",
       "1  Thursday  \n",
       "2  Thursday  "
      ]
     },
     "execution_count": 136,
     "metadata": {},
     "output_type": "execute_result"
    }
   ],
   "source": [
    "# Formattage de la date\n",
    "df[\"created_at\"] = pd.to_datetime(df[\"created_at\"], utc=True)\n",
    "df[\"created_at_local\"] = df[\"created_at\"].dt.tz_convert(\"Europe/Paris\")\n",
    "df[\"date\"] = df[\"created_at_local\"].dt.date\n",
    "df[\"hour\"] = df[\"created_at_local\"].dt.time\n",
    "df[\"weekday\"] = df[\"created_at_local\"].dt.day_name()\n",
    "\n",
    "# si regroupement en heure entière\n",
    "# df[\"hour_int\"] = df[\"created_at_local\"].dt.hour\n",
    "\n",
    "df = df.drop([\"id\", \"edit_history_tweet_ids\", \"created_at\", \"created_at_local\"], axis=1)\n",
    "print(df[\"date\"].nunique())\n",
    "\n",
    "df.head(3)\n"
   ]
  },
  {
   "cell_type": "code",
   "execution_count": null,
   "id": "5ac9a1a0",
   "metadata": {},
   "outputs": [
    {
     "name": "stdout",
     "output_type": "stream",
     "text": [
      "0    I just earned +10.00 BSD in the simulation mar...\n",
      "1    Tesla - Hang Tough (HQ) https://t.co/eiYNM0B72...\n",
      "2    @Tesla The Lightning Network enables fast, low...\n",
      "3    @DaFunkyBeatsX @SawyerMerritt @Tesla I guess i...\n",
      "4    RT @venuguntupli7: Rare Earth, Battery and Rob...\n",
      "Name: text, dtype: object\n"
     ]
    }
   ],
   "source": [
    "pd.set_option('display.max_colwidth', None)\n",
    "print(df[\"text\"][:5])"
   ]
  },
  {
   "cell_type": "code",
   "execution_count": 127,
   "id": "55cc5474",
   "metadata": {},
   "outputs": [
    {
     "name": "stdout",
     "output_type": "stream",
     "text": [
      "\"{'retweet_count': 0, 'reply_count': 0, 'like_count': 0, 'quote_count': 0, 'bookmark_count': 0, 'impression_count': 0}\"\n"
     ]
    }
   ],
   "source": [
    "print(json.dumps(df[\"public_metrics\"][0], indent=2))\n",
    "df[\"metrics\"] = df[\"public_metrics\"].apply(ast.literal_eval)"
   ]
  },
  {
   "cell_type": "code",
   "execution_count": 128,
   "id": "4b529b17",
   "metadata": {},
   "outputs": [
    {
     "data": {
      "text/html": [
       "<div>\n",
       "<style scoped>\n",
       "    .dataframe tbody tr th:only-of-type {\n",
       "        vertical-align: middle;\n",
       "    }\n",
       "\n",
       "    .dataframe tbody tr th {\n",
       "        vertical-align: top;\n",
       "    }\n",
       "\n",
       "    .dataframe thead th {\n",
       "        text-align: right;\n",
       "    }\n",
       "</style>\n",
       "<table border=\"1\" class=\"dataframe\">\n",
       "  <thead>\n",
       "    <tr style=\"text-align: right;\">\n",
       "      <th></th>\n",
       "      <th>text</th>\n",
       "      <th>clean_text</th>\n",
       "    </tr>\n",
       "  </thead>\n",
       "  <tbody>\n",
       "    <tr>\n",
       "      <th>0</th>\n",
       "      <td>I just earned +10.00 BSD in the simulation mar...</td>\n",
       "      <td>I just earned 1000 BSD in the simulation marke...</td>\n",
       "    </tr>\n",
       "    <tr>\n",
       "      <th>1</th>\n",
       "      <td>Tesla - Hang Tough (HQ) https://t.co/eiYNM0B72...</td>\n",
       "      <td>Tesla Hang Tough HQ via</td>\n",
       "    </tr>\n",
       "    <tr>\n",
       "      <th>2</th>\n",
       "      <td>@Tesla The Lightning Network enables fast, low...</td>\n",
       "      <td>The Lightning Network enables fast lowcost Bit...</td>\n",
       "    </tr>\n",
       "    <tr>\n",
       "      <th>3</th>\n",
       "      <td>@DaFunkyBeatsX @SawyerMerritt @Tesla I guess i...</td>\n",
       "      <td>I guess it will do it sustainably</td>\n",
       "    </tr>\n",
       "    <tr>\n",
       "      <th>4</th>\n",
       "      <td>RT @venuguntupli7: Rare Earth, Battery and Rob...</td>\n",
       "      <td>RT Rare Earth Battery and Robotics is the next...</td>\n",
       "    </tr>\n",
       "  </tbody>\n",
       "</table>\n",
       "</div>"
      ],
      "text/plain": [
       "                                                text  \\\n",
       "0  I just earned +10.00 BSD in the simulation mar...   \n",
       "1  Tesla - Hang Tough (HQ) https://t.co/eiYNM0B72...   \n",
       "2  @Tesla The Lightning Network enables fast, low...   \n",
       "3  @DaFunkyBeatsX @SawyerMerritt @Tesla I guess i...   \n",
       "4  RT @venuguntupli7: Rare Earth, Battery and Rob...   \n",
       "\n",
       "                                          clean_text  \n",
       "0  I just earned 1000 BSD in the simulation marke...  \n",
       "1                            Tesla Hang Tough HQ via  \n",
       "2  The Lightning Network enables fast lowcost Bit...  \n",
       "3                  I guess it will do it sustainably  \n",
       "4  RT Rare Earth Battery and Robotics is the next...  "
      ]
     },
     "execution_count": 128,
     "metadata": {},
     "output_type": "execute_result"
    }
   ],
   "source": [
    "def clean_tweet(text):\n",
    "    text = re.sub(r\"http\\S+\", \"\", text)          # liens\n",
    "    text = re.sub(r\"@\\w+\", \"\", text)             # mentions\n",
    "    text = re.sub(r\"#\", \"\", text)                # hashtag symbol\n",
    "    text = re.sub(r\"[^\\w\\s$]\", \"\", text)         # ponctuation sauf $\n",
    "    text = re.sub(r\"\\s+\", \" \", text).strip()     # espaces multiples\n",
    "    return text\n",
    "\n",
    "df[\"clean_text\"] = df[\"text\"].astype(str).apply(clean_tweet)\n",
    "df = df[df[\"clean_text\"].str.len() > 5]  # supprime tweets vides ou trop courts\n",
    "\n",
    "df[[\"text\", \"clean_text\"]].head(5)\n"
   ]
  },
  {
   "cell_type": "code",
   "execution_count": 129,
   "id": "2751bb0c",
   "metadata": {},
   "outputs": [],
   "source": [
    "def extract_metrics(metrics_str):\n",
    "    try:\n",
    "        metrics = ast.literal_eval(metrics_str)\n",
    "        return metrics.get(\"like_count\", 0), metrics.get(\"retweet_count\", 0)\n",
    "    except:\n",
    "        return 0, 0\n",
    "\n",
    "df[[\"likes\", \"retweets\"]] = df[\"public_metrics\"].apply(lambda x: pd.Series(extract_metrics(str(x))))\n"
   ]
  },
  {
   "cell_type": "code",
   "execution_count": 130,
   "id": "1f876505",
   "metadata": {},
   "outputs": [],
   "source": [
    "from vaderSentiment.vaderSentiment import SentimentIntensityAnalyzer\n",
    "analyzer = SentimentIntensityAnalyzer()\n",
    "\n",
    "df[\"sentiment_score\"] = df[\"clean_text\"].apply(lambda x: analyzer.polarity_scores(x)[\"compound\"])\n",
    "df[\"sentiment_label\"] = df[\"sentiment_score\"].apply(lambda x: \"positive\" if x > 0.05 else (\"negative\" if x < -0.05 else \"neutral\"))"
   ]
  },
  {
   "cell_type": "code",
   "execution_count": 131,
   "id": "31c5d219",
   "metadata": {},
   "outputs": [
    {
     "name": "stderr",
     "output_type": "stream",
     "text": [
      "Some weights of the model checkpoint at cardiffnlp/twitter-roberta-base-sentiment-latest were not used when initializing RobertaForSequenceClassification: ['roberta.pooler.dense.bias', 'roberta.pooler.dense.weight']\n",
      "- This IS expected if you are initializing RobertaForSequenceClassification from the checkpoint of a model trained on another task or with another architecture (e.g. initializing a BertForSequenceClassification model from a BertForPreTraining model).\n",
      "- This IS NOT expected if you are initializing RobertaForSequenceClassification from the checkpoint of a model that you expect to be exactly identical (initializing a BertForSequenceClassification model from a BertForSequenceClassification model).\n",
      "Device set to use cpu\n"
     ]
    }
   ],
   "source": [
    "from transformers import pipeline\n",
    "sentiment_model = pipeline(\"sentiment-analysis\", model=\"cardiffnlp/twitter-roberta-base-sentiment-latest\")\n",
    "\n",
    "df[\"sentiment\"] = df[\"clean_text\"].apply(lambda x: sentiment_model(x[:512])[0][\"label\"])"
   ]
  },
  {
   "cell_type": "code",
   "execution_count": 132,
   "id": "79f8fd5f",
   "metadata": {},
   "outputs": [
    {
     "name": "stdout",
     "output_type": "stream",
     "text": [
      "         date  sentiment_score\n",
      "0  2025-10-16          0.17053\n"
     ]
    }
   ],
   "source": [
    "# Regroupement par jour\n",
    "sentiment_daily = (\n",
    "    df.groupby(\"date\")[\"sentiment_score\"]\n",
    "    .mean()\n",
    "    .reset_index()\n",
    ")\n",
    "\n",
    "print(sentiment_daily.head())\n"
   ]
  },
  {
   "cell_type": "code",
   "execution_count": 133,
   "id": "5b814b59",
   "metadata": {},
   "outputs": [
    {
     "name": "stdout",
     "output_type": "stream",
     "text": [
      "sentiment        date  negative  neutral  positive\n",
      "0          2025-10-16        10       29        61\n"
     ]
    }
   ],
   "source": [
    "sentiment_daily = (\n",
    "    df.groupby([\"date\", \"sentiment\"])\n",
    "    .size()\n",
    "    .unstack(fill_value=0)\n",
    "    .reset_index()\n",
    ")\n",
    "\n",
    "print(sentiment_daily.head())\n"
   ]
  },
  {
   "cell_type": "code",
   "execution_count": 1,
   "id": "98da1efe",
   "metadata": {},
   "outputs": [
    {
     "ename": "AttributeError",
     "evalue": "'FileFinder' object has no attribute 'find_module'",
     "output_type": "error",
     "traceback": [
      "\u001b[31m---------------------------------------------------------------------------\u001b[39m",
      "\u001b[31mAttributeError\u001b[39m                            Traceback (most recent call last)",
      "\u001b[36mCell\u001b[39m\u001b[36m \u001b[39m\u001b[32mIn[1]\u001b[39m\u001b[32m, line 1\u001b[39m\n\u001b[32m----> \u001b[39m\u001b[32m1\u001b[39m \u001b[38;5;28;01mimport\u001b[39;00m\u001b[38;5;250m \u001b[39m\u001b[34;01msnscrape\u001b[39;00m\u001b[34;01m.\u001b[39;00m\u001b[34;01mmodules\u001b[39;00m\u001b[34;01m.\u001b[39;00m\u001b[34;01mtwitter\u001b[39;00m\u001b[38;5;250m \u001b[39m\u001b[38;5;28;01mas\u001b[39;00m\u001b[38;5;250m \u001b[39m\u001b[34;01msntwitter\u001b[39;00m\n\u001b[32m      2\u001b[39m \u001b[38;5;28;01mimport\u001b[39;00m\u001b[38;5;250m \u001b[39m\u001b[34;01mpandas\u001b[39;00m\u001b[38;5;250m \u001b[39m\u001b[38;5;28;01mas\u001b[39;00m\u001b[38;5;250m \u001b[39m\u001b[34;01mpd\u001b[39;00m\n\u001b[32m      4\u001b[39m query = \u001b[33m\"\u001b[39m\u001b[33mTSLA since:2025-10-10 until:2025-10-16\u001b[39m\u001b[33m\"\u001b[39m\n",
      "\u001b[36mFile \u001b[39m\u001b[32m~/hackathon2025/myvenv/lib/python3.12/site-packages/snscrape/modules/__init__.py:17\u001b[39m\n\u001b[32m     13\u001b[39m \t\tmodule = importer.find_module(moduleName).load_module(moduleName)\n\u001b[32m     14\u001b[39m \t\t\u001b[38;5;28mglobals\u001b[39m()[moduleNameWithoutPrefix] = module\n\u001b[32m---> \u001b[39m\u001b[32m17\u001b[39m \u001b[43m_import_modules\u001b[49m\u001b[43m(\u001b[49m\u001b[43m)\u001b[49m\n",
      "\u001b[36mFile \u001b[39m\u001b[32m~/hackathon2025/myvenv/lib/python3.12/site-packages/snscrape/modules/__init__.py:13\u001b[39m, in \u001b[36m_import_modules\u001b[39m\u001b[34m()\u001b[39m\n\u001b[32m     11\u001b[39m moduleNameWithoutPrefix = moduleName[prefixLen:]\n\u001b[32m     12\u001b[39m __all__.append(moduleNameWithoutPrefix)\n\u001b[32m---> \u001b[39m\u001b[32m13\u001b[39m module = \u001b[43mimporter\u001b[49m\u001b[43m.\u001b[49m\u001b[43mfind_module\u001b[49m(moduleName).load_module(moduleName)\n\u001b[32m     14\u001b[39m \u001b[38;5;28mglobals\u001b[39m()[moduleNameWithoutPrefix] = module\n",
      "\u001b[31mAttributeError\u001b[39m: 'FileFinder' object has no attribute 'find_module'"
     ]
    }
   ],
   "source": [
    "import snscrape.modules.twitter as sntwitter\n",
    "import pandas as pd\n",
    "\n",
    "query = \"TSLA since:2025-10-10 until:2025-10-16\"\n",
    "tweets = []\n",
    "\n",
    "for i, tweet in enumerate(sntwitter.TwitterSearchScraper(query).get_items()):\n",
    "    if i > 100:  # limiter pour éviter les blocages\n",
    "        break\n",
    "    tweets.append([tweet.date, tweet.user.username, tweet.content])\n",
    "\n",
    "df = pd.DataFrame(tweets, columns=[\"date\", \"user\", \"text\"])\n",
    "print(df.head())\n"
   ]
  }
 ],
 "metadata": {
  "kernelspec": {
   "display_name": "myvenv (3.12.3)",
   "language": "python",
   "name": "python3"
  },
  "language_info": {
   "codemirror_mode": {
    "name": "ipython",
    "version": 3
   },
   "file_extension": ".py",
   "mimetype": "text/x-python",
   "name": "python",
   "nbconvert_exporter": "python",
   "pygments_lexer": "ipython3",
   "version": "3.12.3"
  }
 },
 "nbformat": 4,
 "nbformat_minor": 5
}
